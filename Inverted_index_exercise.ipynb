{
  "cells": [
    {
      "cell_type": "markdown",
      "metadata": {
        "id": "view-in-github",
        "colab_type": "text"
      },
      "source": [
        "<a href=\"https://colab.research.google.com/github/Saputoa21/Machine-Learning/blob/main/Inverted_index_exercise.ipynb\" target=\"_parent\"><img src=\"https://colab.research.google.com/assets/colab-badge.svg\" alt=\"Open In Colab\"/></a>"
      ]
    },
    {
      "cell_type": "markdown",
      "metadata": {
        "id": "v8Qe9mytUoOT"
      },
      "source": [
        "# Building a Simple Inverted Index\n",
        "\n",
        "In this notebook, we will implement an inverted index structure.   \n",
        "The inverted index is a data structure that maps each term to the list of documents that contain the term (also called **postings** list). The inverted index is a central data structure in information retrieval systems. It allows us to quickly find and retrieve the documents in which a term appears.\n",
        "\n",
        "In this notebook, we will test document retrieval with and without indexing, and compare the time taken for each method.\n"
      ]
    },
    {
      "cell_type": "markdown",
      "metadata": {
        "id": "Lip32O6DUoOU"
      },
      "source": [
        "## Data\n",
        "For the sake of the exercise, you can choose between two corpus:\n",
        "* The fairy tales corpus: a collection of ~250 fairy tales from the Gutenberg project. The corpus is available in the file `fairytales.csv.zip`, and contains the following columns:\n",
        "    * `title`: the title of the fairy tale\n",
        "    * `content`: the content of the fairy tale\n",
        "    While the csv is zipped, you don't have to unzip it, you can read it directly using pandas' `read_csv` method with the `compression` parameter set to `zip`, like so:\n",
        "    ```python\n",
        "    df = pd.read_csv('fairytales.csv.zip', compression='zip')\n",
        "    ```\n",
        "* Or the heavier corpus: `stories.zip`, which contains a collection of 230 books, each divided into chapters as a separate text file. To use the corpus, you don't need to unzip it, you can read the files directly from the zip file, using the python's zipfile module. Here's an example:\n",
        "    ```python\n",
        "    from zipfile import ZipFile\n",
        "\n",
        "    with ZipFile('stories.zip', 'r') as zip_ref:\n",
        "        # looping over the folders using the `namelist` method:\n",
        "        for file in zip_ref.namelist():\n",
        "            with zip_ref.open(file) as f:\n",
        "                text = f.read().decode('utf-8')\n",
        "\n",
        "                # some naive tokenization - spliting the text by space. You can do better than this ;)\n",
        "                tokens = text.split()\n",
        "                for token in tokens:\n",
        "                    print(token)\n",
        "    ```\n",
        "You can also mix and merge both corpus, if you wish."
      ]
    },
    {
      "cell_type": "code",
      "execution_count": 1,
      "metadata": {
        "id": "GbS5JpAYUoOV"
      },
      "outputs": [],
      "source": [
        "import pandas as pd\n",
        "from zipfile import ZipFile"
      ]
    },
    {
      "cell_type": "code",
      "source": [
        "df = pd.read_csv('fairytales.csv.zip', compression='zip')"
      ],
      "metadata": {
        "id": "kabIJ5pY3wKm"
      },
      "execution_count": 3,
      "outputs": []
    },
    {
      "cell_type": "code",
      "source": [
        "df.tail()"
      ],
      "metadata": {
        "colab": {
          "base_uri": "https://localhost:8080/",
          "height": 206
        },
        "id": "kvGLYQxQ57xV",
        "outputId": "8c3e9c42-6212-4b7f-b0c4-0b4a6431b564"
      },
      "execution_count": 4,
      "outputs": [
        {
          "output_type": "execute_result",
          "data": {
            "text/plain": [
              "                             title  \\\n",
              "273           neighbor-underground   \n",
              "274                   lucky-andrew   \n",
              "275                     troll-wife   \n",
              "276  three-princesses-in-whiteland   \n",
              "277                kari-woodencoat   \n",
              "\n",
              "                                               content  content_length  \n",
              "273  Once upon a time there was a peasant who lived...             983  \n",
              "274  There was once a rich peasant who had two sons...            2782  \n",
              "275  Once upon a time, long, long years ago, there ...            1358  \n",
              "276  Once upon a time there was a fisherman, who li...            2690  \n",
              "277  ONCE upon a time there was a king whose wife h...            5333  "
            ],
            "text/html": [
              "\n",
              "  <div id=\"df-8f24837b-7719-4733-b2ae-b316ac1f0860\" class=\"colab-df-container\">\n",
              "    <div>\n",
              "<style scoped>\n",
              "    .dataframe tbody tr th:only-of-type {\n",
              "        vertical-align: middle;\n",
              "    }\n",
              "\n",
              "    .dataframe tbody tr th {\n",
              "        vertical-align: top;\n",
              "    }\n",
              "\n",
              "    .dataframe thead th {\n",
              "        text-align: right;\n",
              "    }\n",
              "</style>\n",
              "<table border=\"1\" class=\"dataframe\">\n",
              "  <thead>\n",
              "    <tr style=\"text-align: right;\">\n",
              "      <th></th>\n",
              "      <th>title</th>\n",
              "      <th>content</th>\n",
              "      <th>content_length</th>\n",
              "    </tr>\n",
              "  </thead>\n",
              "  <tbody>\n",
              "    <tr>\n",
              "      <th>273</th>\n",
              "      <td>neighbor-underground</td>\n",
              "      <td>Once upon a time there was a peasant who lived...</td>\n",
              "      <td>983</td>\n",
              "    </tr>\n",
              "    <tr>\n",
              "      <th>274</th>\n",
              "      <td>lucky-andrew</td>\n",
              "      <td>There was once a rich peasant who had two sons...</td>\n",
              "      <td>2782</td>\n",
              "    </tr>\n",
              "    <tr>\n",
              "      <th>275</th>\n",
              "      <td>troll-wife</td>\n",
              "      <td>Once upon a time, long, long years ago, there ...</td>\n",
              "      <td>1358</td>\n",
              "    </tr>\n",
              "    <tr>\n",
              "      <th>276</th>\n",
              "      <td>three-princesses-in-whiteland</td>\n",
              "      <td>Once upon a time there was a fisherman, who li...</td>\n",
              "      <td>2690</td>\n",
              "    </tr>\n",
              "    <tr>\n",
              "      <th>277</th>\n",
              "      <td>kari-woodencoat</td>\n",
              "      <td>ONCE upon a time there was a king whose wife h...</td>\n",
              "      <td>5333</td>\n",
              "    </tr>\n",
              "  </tbody>\n",
              "</table>\n",
              "</div>\n",
              "    <div class=\"colab-df-buttons\">\n",
              "\n",
              "  <div class=\"colab-df-container\">\n",
              "    <button class=\"colab-df-convert\" onclick=\"convertToInteractive('df-8f24837b-7719-4733-b2ae-b316ac1f0860')\"\n",
              "            title=\"Convert this dataframe to an interactive table.\"\n",
              "            style=\"display:none;\">\n",
              "\n",
              "  <svg xmlns=\"http://www.w3.org/2000/svg\" height=\"24px\" viewBox=\"0 -960 960 960\">\n",
              "    <path d=\"M120-120v-720h720v720H120Zm60-500h600v-160H180v160Zm220 220h160v-160H400v160Zm0 220h160v-160H400v160ZM180-400h160v-160H180v160Zm440 0h160v-160H620v160ZM180-180h160v-160H180v160Zm440 0h160v-160H620v160Z\"/>\n",
              "  </svg>\n",
              "    </button>\n",
              "\n",
              "  <style>\n",
              "    .colab-df-container {\n",
              "      display:flex;\n",
              "      gap: 12px;\n",
              "    }\n",
              "\n",
              "    .colab-df-convert {\n",
              "      background-color: #E8F0FE;\n",
              "      border: none;\n",
              "      border-radius: 50%;\n",
              "      cursor: pointer;\n",
              "      display: none;\n",
              "      fill: #1967D2;\n",
              "      height: 32px;\n",
              "      padding: 0 0 0 0;\n",
              "      width: 32px;\n",
              "    }\n",
              "\n",
              "    .colab-df-convert:hover {\n",
              "      background-color: #E2EBFA;\n",
              "      box-shadow: 0px 1px 2px rgba(60, 64, 67, 0.3), 0px 1px 3px 1px rgba(60, 64, 67, 0.15);\n",
              "      fill: #174EA6;\n",
              "    }\n",
              "\n",
              "    .colab-df-buttons div {\n",
              "      margin-bottom: 4px;\n",
              "    }\n",
              "\n",
              "    [theme=dark] .colab-df-convert {\n",
              "      background-color: #3B4455;\n",
              "      fill: #D2E3FC;\n",
              "    }\n",
              "\n",
              "    [theme=dark] .colab-df-convert:hover {\n",
              "      background-color: #434B5C;\n",
              "      box-shadow: 0px 1px 3px 1px rgba(0, 0, 0, 0.15);\n",
              "      filter: drop-shadow(0px 1px 2px rgba(0, 0, 0, 0.3));\n",
              "      fill: #FFFFFF;\n",
              "    }\n",
              "  </style>\n",
              "\n",
              "    <script>\n",
              "      const buttonEl =\n",
              "        document.querySelector('#df-8f24837b-7719-4733-b2ae-b316ac1f0860 button.colab-df-convert');\n",
              "      buttonEl.style.display =\n",
              "        google.colab.kernel.accessAllowed ? 'block' : 'none';\n",
              "\n",
              "      async function convertToInteractive(key) {\n",
              "        const element = document.querySelector('#df-8f24837b-7719-4733-b2ae-b316ac1f0860');\n",
              "        const dataTable =\n",
              "          await google.colab.kernel.invokeFunction('convertToInteractive',\n",
              "                                                    [key], {});\n",
              "        if (!dataTable) return;\n",
              "\n",
              "        const docLinkHtml = 'Like what you see? Visit the ' +\n",
              "          '<a target=\"_blank\" href=https://colab.research.google.com/notebooks/data_table.ipynb>data table notebook</a>'\n",
              "          + ' to learn more about interactive tables.';\n",
              "        element.innerHTML = '';\n",
              "        dataTable['output_type'] = 'display_data';\n",
              "        await google.colab.output.renderOutput(dataTable, element);\n",
              "        const docLink = document.createElement('div');\n",
              "        docLink.innerHTML = docLinkHtml;\n",
              "        element.appendChild(docLink);\n",
              "      }\n",
              "    </script>\n",
              "  </div>\n",
              "\n",
              "\n",
              "<div id=\"df-d2966a96-cf4c-43e8-b08c-a754d6e45d28\">\n",
              "  <button class=\"colab-df-quickchart\" onclick=\"quickchart('df-d2966a96-cf4c-43e8-b08c-a754d6e45d28')\"\n",
              "            title=\"Suggest charts\"\n",
              "            style=\"display:none;\">\n",
              "\n",
              "<svg xmlns=\"http://www.w3.org/2000/svg\" height=\"24px\"viewBox=\"0 0 24 24\"\n",
              "     width=\"24px\">\n",
              "    <g>\n",
              "        <path d=\"M19 3H5c-1.1 0-2 .9-2 2v14c0 1.1.9 2 2 2h14c1.1 0 2-.9 2-2V5c0-1.1-.9-2-2-2zM9 17H7v-7h2v7zm4 0h-2V7h2v10zm4 0h-2v-4h2v4z\"/>\n",
              "    </g>\n",
              "</svg>\n",
              "  </button>\n",
              "\n",
              "<style>\n",
              "  .colab-df-quickchart {\n",
              "      --bg-color: #E8F0FE;\n",
              "      --fill-color: #1967D2;\n",
              "      --hover-bg-color: #E2EBFA;\n",
              "      --hover-fill-color: #174EA6;\n",
              "      --disabled-fill-color: #AAA;\n",
              "      --disabled-bg-color: #DDD;\n",
              "  }\n",
              "\n",
              "  [theme=dark] .colab-df-quickchart {\n",
              "      --bg-color: #3B4455;\n",
              "      --fill-color: #D2E3FC;\n",
              "      --hover-bg-color: #434B5C;\n",
              "      --hover-fill-color: #FFFFFF;\n",
              "      --disabled-bg-color: #3B4455;\n",
              "      --disabled-fill-color: #666;\n",
              "  }\n",
              "\n",
              "  .colab-df-quickchart {\n",
              "    background-color: var(--bg-color);\n",
              "    border: none;\n",
              "    border-radius: 50%;\n",
              "    cursor: pointer;\n",
              "    display: none;\n",
              "    fill: var(--fill-color);\n",
              "    height: 32px;\n",
              "    padding: 0;\n",
              "    width: 32px;\n",
              "  }\n",
              "\n",
              "  .colab-df-quickchart:hover {\n",
              "    background-color: var(--hover-bg-color);\n",
              "    box-shadow: 0 1px 2px rgba(60, 64, 67, 0.3), 0 1px 3px 1px rgba(60, 64, 67, 0.15);\n",
              "    fill: var(--button-hover-fill-color);\n",
              "  }\n",
              "\n",
              "  .colab-df-quickchart-complete:disabled,\n",
              "  .colab-df-quickchart-complete:disabled:hover {\n",
              "    background-color: var(--disabled-bg-color);\n",
              "    fill: var(--disabled-fill-color);\n",
              "    box-shadow: none;\n",
              "  }\n",
              "\n",
              "  .colab-df-spinner {\n",
              "    border: 2px solid var(--fill-color);\n",
              "    border-color: transparent;\n",
              "    border-bottom-color: var(--fill-color);\n",
              "    animation:\n",
              "      spin 1s steps(1) infinite;\n",
              "  }\n",
              "\n",
              "  @keyframes spin {\n",
              "    0% {\n",
              "      border-color: transparent;\n",
              "      border-bottom-color: var(--fill-color);\n",
              "      border-left-color: var(--fill-color);\n",
              "    }\n",
              "    20% {\n",
              "      border-color: transparent;\n",
              "      border-left-color: var(--fill-color);\n",
              "      border-top-color: var(--fill-color);\n",
              "    }\n",
              "    30% {\n",
              "      border-color: transparent;\n",
              "      border-left-color: var(--fill-color);\n",
              "      border-top-color: var(--fill-color);\n",
              "      border-right-color: var(--fill-color);\n",
              "    }\n",
              "    40% {\n",
              "      border-color: transparent;\n",
              "      border-right-color: var(--fill-color);\n",
              "      border-top-color: var(--fill-color);\n",
              "    }\n",
              "    60% {\n",
              "      border-color: transparent;\n",
              "      border-right-color: var(--fill-color);\n",
              "    }\n",
              "    80% {\n",
              "      border-color: transparent;\n",
              "      border-right-color: var(--fill-color);\n",
              "      border-bottom-color: var(--fill-color);\n",
              "    }\n",
              "    90% {\n",
              "      border-color: transparent;\n",
              "      border-bottom-color: var(--fill-color);\n",
              "    }\n",
              "  }\n",
              "</style>\n",
              "\n",
              "  <script>\n",
              "    async function quickchart(key) {\n",
              "      const quickchartButtonEl =\n",
              "        document.querySelector('#' + key + ' button');\n",
              "      quickchartButtonEl.disabled = true;  // To prevent multiple clicks.\n",
              "      quickchartButtonEl.classList.add('colab-df-spinner');\n",
              "      try {\n",
              "        const charts = await google.colab.kernel.invokeFunction(\n",
              "            'suggestCharts', [key], {});\n",
              "      } catch (error) {\n",
              "        console.error('Error during call to suggestCharts:', error);\n",
              "      }\n",
              "      quickchartButtonEl.classList.remove('colab-df-spinner');\n",
              "      quickchartButtonEl.classList.add('colab-df-quickchart-complete');\n",
              "    }\n",
              "    (() => {\n",
              "      let quickchartButtonEl =\n",
              "        document.querySelector('#df-d2966a96-cf4c-43e8-b08c-a754d6e45d28 button');\n",
              "      quickchartButtonEl.style.display =\n",
              "        google.colab.kernel.accessAllowed ? 'block' : 'none';\n",
              "    })();\n",
              "  </script>\n",
              "</div>\n",
              "\n",
              "    </div>\n",
              "  </div>\n"
            ],
            "application/vnd.google.colaboratory.intrinsic+json": {
              "type": "dataframe",
              "summary": "{\n  \"name\": \"df\",\n  \"rows\": 5,\n  \"fields\": [\n    {\n      \"column\": \"title\",\n      \"properties\": {\n        \"dtype\": \"string\",\n        \"num_unique_values\": 5,\n        \"samples\": [\n          \"lucky-andrew\",\n          \"kari-woodencoat\",\n          \"troll-wife\"\n        ],\n        \"semantic_type\": \"\",\n        \"description\": \"\"\n      }\n    },\n    {\n      \"column\": \"content\",\n      \"properties\": {\n        \"dtype\": \"string\",\n        \"num_unique_values\": 5,\n        \"samples\": [\n          \"There was once a rich peasant who had two sons, named John Nicholas and\\nLucky Andrew. The oldest was one of those fellows of whom one never can\\nquite make head or tail. He was a most unpleasant customer to deal with,\\nand he was more grasping and greedy than the folk of the Northland are,\\nas a rule, though it is only too rare to find them unblessed with\\nthese attractive qualities. The other, Lucky Andrew, was wild and high\\nspirited, but always good natured, and no matter how badly off he might\\nbe, he would always insist that he had been born under a lucky star.\\nWhen the eagle, in order to defend his nest, belabored his head and face\\ntill the blood ran, he would still maintain that he was born under a\\nlucky star, if only he managed to bring home a single eaglet. Did his\\nboat capsize, which occasionally happened, and did they discover him\\nhanging to it, quite overcome with the water, cold and exertion, and\\nasked him how he felt, he would reply: \\\"O, quite well. I have been\\nsaved. I surely am in luck!\\\" When their father died, both of them were of age, and not long after\\nthey both had to go out to the sand-banks to fetch some fishing-nets,\\nwhich had been left there since the summer fishing. It was late in\\nthe fall, after the time when most fishermen are busy with the summer\\nfishing. Andrew had his gun along, which he carried with him wherever he\\nwent. John Nicholas did not say much while they were underway; but he\\nthought all the harder. They were not ready to set out for home again\\nuntil near evening. \\\"Hark, Lucky Andrew, do you know there will be a storm to-night?\\\" said\\nJohn Nicholas, and looked out across the sea. \\\"I think it would be best\\nif we stayed here until morning!\\\"\\n\\n\\\"There'll be no storm,\\\" said Andrew. \\\"The Seven Sisters have not put on\\ntheir fog-caps, so you may be quite at rest.\\\" But his brother complained of being weary, and at length they decided to\\nremain there for the night. When Andrew awoke he found himself alone;\\nand he saw neither brother nor boat, until he came to the highest point\\nof the island. Then he discovered him far out, darting for land like a\\nsea-gull. Andrew did not understand the whole affair. There were still\\nprovisions there, as well as a dish of curd, his gun and various other\\nthings. So Andrew wasted but little time in thought. \\\"He will come back\\nthis evening,\\\" said he. \\\"Only a fool loses heart so long as he can eat.\\\"\\nBut in the evening there was no brother to be seen, and Andrew waited\\nday by day, and week by week; until at last, he realized that his\\nbrother had marooned him on this barren island in order to be able to\\nkeep their inheritance for himself, and not have to divide it. And\\nsuch was the case, for when John Nicholas came in sight of land on his\\nhomeward trip, he had capsized the boat, and declared that Lucky Andrew\\nhad been drowned. But the latter did not lose heart. He gathered drift-wood along the\\nstrand, shot sea-birds, and looked for mussels and roots. He built\\nhimself a raft of drift-timber, and fished with a pole that had also\\nbeen left behind. One day, while he was at work, he happened to notice a\\ndepression or hollow in the sand, as though made by the keel of a large\\nNorthland schooner, and he could plainly trace the braidings of the\\nhawsers from the strand up to the top of the island. Then he thought to\\nhimself that he was in no danger, for he saw there was truth in the\\nreport he had often heard, that the meer-folk made the island their\\nabode, and did much business with their ships. \\\"God be praised for good company! That was just what I needed. Yes, it\\nis true, as I have always said, that I was born under a lucky star,\\\"\\nthought Andrew to himself; perhaps he said so too, for occasionally he\\nreally had to talk a little. So he lived through the fall. Once he saw a\\nboat, and hung a rag on a pole and waved with it; but that very moment\\nthe sail dropped, and the crew took to the oars and rowed away at top\\nspeed, for they thought the meer-trolls were making signs and waving. On Christmas Eve Andrew heard fiddles and music far out at sea; and when\\nhe came out, he saw a glow of light that came from a great Northland\\nschooner, which was gliding toward the land--yet such a ship he had\\nnever yet seen. It has a main-sail of uncommon size, which looked to him\\nto be of silk, and the most delicate tackling, as thin as though woven\\nof steel wire, and everything else was in proportion, as fine and\\nhandsome as any Northlander might wish to have. The whole schooner was\\nfilled with little people dressed in blue, but the girl who stood at the\\nhelm was adorned like a bride, and looked as splendid as a queen, for\\nshe wore a crown and costly garments. Yet any one could see that she was\\na human being, for she was tall, and handsomer than the meer-folk. In\\nfact, Lucky Andrew thought that she was handsomer than any girl he ever\\nhad seen. The schooner headed for the land where Andrew stood; but with\\nhis usual presence of mind, he hurried to the fisherman's hut, pulled\\ndown his gun from the wall, and crept up into the large loft and hid\\nhimself, so that he could see all that passed in the hut. He soon\\nnoticed that the whole room was alive with people. They filled it completely and more, and still more of them came in. Then the walls\\nbegan to crack, and the little hut spread out at all corners, and grew\\nso splendid and magnificent that the wealthiest merchant could not have\\nhad its equal; it was almost like being in a royal castle. Tables were\\ncovered with the most exquisite silver and gold. When they had eaten\\nthey began to dance. Under cover of the noise, Andrew crept to the\\nlook-out at the side of the roof, and climbed down. Then he ran to the\\nschooner, threw his flint-stone over it, and in order to make certain,\\ncut a cross into it with his sharp-cutting knife. When he came back\\nagain, the dance was in full swing. The tables were dancing and the\\nbenches and chairs--everything else in the room was dancing, too. The\\nonly one who did not dance was the bride; she only sat there and looked\\non, and when the bridegroom came to fetch her, she sent him away. For\\nthe moment there was no thought of stopping. The fiddler knew neither rest nor repose, and did not pass his cap, but played merrily on with his left hand, and beat time with his foot, until he was dripping with\\nsweat, and the fiddle was hidden by the dust and smoke. When Andrew\\nnoticed that his own feet began to twitch where he was standing, he\\nthought to himself: \\\"Now I had better shoot away, or else he will play\\nme right off the ground!\\\" So he turned his gun, thrust it through the\\nwindow, and shot it off over the bride's head; but upside down,\\notherwise the bullet would have hit him. The moment the shot crashed,\\nall the troll-folk tumbled out of the door together; but when they saw\\nthat the schooner was banned on the shore, they wailed and crept into a\\nhole in the hill. But all the gold and silver dishes were left behind,\\nand the bride, too, was still sitting there. She told Lucky Andrew that\\nshe had been carried into the hill when she was only a small child.\\nOnce, when her mother had gone to the pen to attend to the milking, she\\nhad taken her along; but when she had to go home for a moment, she left\\nthe child sitting under a juniper-bush, and told her that she might eat\\nthe berries if she only repeated three times:\\n\\n      \\\"I eat juniper-berries blue,\\n      Wherein Jesu's cross I view.\\n      I eat whortle-berries red,\\n      Since 'twas for my sake He bled!\\\" But after her mother had gone, she found so many berries that she forgot\\nto say her verse, and so she was enchanted and taken into the hill. And\\nthere no harm had been done her, save that she had lost the top joint of\\nthe little finger of her left hand, and the goblins had been kind to\\nher; yet it had always seemed to her as though something were not as it\\nshould be, she felt as though something weighed upon her, and she had\\nsuffered greatly from the advances of the dwarf who had been chosen for\\nher husband. When Andrew learned who her mother and her people were, he\\nsaw that they were related to him, and they became very good friends. So\\nAndrew could truly say he had been born under a lucky star. Then they\\nsailed home, and took along the schooner, and all the gold and silver,\\nand all the treasure which had been left in the hut, and then Andrew was\\nfar wealthier than his brother. But the latter, who suspected where all this wealth had come from, did\\nnot wish to be any poorer than Andrew. He knew that trolls and goblins\\nwalk mainly on Christmas Eve, and for that reason he sailed out to the\\nsand banks at that time. And on Christmas Eve he did see a light or\\nfire, but it seemed to be like will-o'-the-wisps fluttering about. When\\nhe came nearer he heard splashes, horrible howls, and cold, piercing\\ncries, and there was a smell of slime and sea-weed, as at ebb-tide.\\nTerrified, he ran up into the hut, from whence he could see the trolls\\non the shore. They were short and thick like hay-ricks, completely\\ncovered with fur, with kirtles of skins, fishing boots, and enormous\\nfist-gloves. In place of head and hair they had bundles of sea-weed.\\nWhen they crawled up from the strand there was a gleam behind them like\\nthat of rotting wood, and when they shook themselves they showered\\nsparks about them. When they drew nearer, John Nicholas crawled up into\\nthe loft as his brother had done. The goblins dragged a great stone into\\nthe hut, and began to beat their gloves dry against it, and meanwhile\\nthey screamed so that John Nicholas's blood turned to ice in his\\nhiding-place. Then one of them sneezed into the ashes on the hearth\\nin order to make the fire burn again; while the others carried in\\nheather-grass and drift-wood, as coarse and heavy as lead. The smoke and the heat nearly killed the eavesdropper in the loft, and in order to\\ncatch his breath and get some fresh air, he tried to crawl out of the\\nlook-out in the roof; yet he was of much heavier build than his brother,\\nstuck fast and could move neither in nor out. Then he grew frightened\\nand began to scream; but the goblins screamed much louder, and roared\\nand howled, and thumped and clamored inside and outside the hut. But\\nwhen the cock crowed they disappeared, and John Nicholas freed himself,\\ntoo. Yet when he returned home from his trip, he had lost his reason,\\nand after that the same cold, sinister screams which are the mark of the\\ntroll in the Northland, might often be heard sounding from store-rooms\\nand lofts where he happened to be. Before his death, however, his reason\\nreturned, and he was buried in consecrated ground, as they say. But\\nafter that time no human foot ever trod the sand-banks again. They sank,\\nand the meer-folk, it is believed, went to the Lekang Islands. Andrew's\\nluck held good; no ship made more successful trips than his own; but\\nwhenever he came to the Lekang Islands he lay becalmed--the goblins went\\naboard or ashore with their goods--but after a time he had fair winds,\\nwhether he happened to want to go to Bergen, or sail home. He had many\\nchildren, and all of them were bright and vigorous, yet every one of\\nthem lacked the upper joint of the little finger of his left hand.\",\n          \"ONCE upon a time there was a king whose wife had died, but he had a daughter who was so good and so beautiful that no one could have been kinder or lovelier than she. The king mourned a long time for the queen, because he had loved her greatly; but in the course of time he grew weary of his lonely life, and married again with the widow of another king, who also had a daughter; but one who was just as ugly and evil as the other was handsome and kind. The step-mother and daughter were jealous of the king's daughter, because she was so handsome; yet so long as the king was at home, they did not dare harm her, for he was very fond of her. But after a time, the king began to war against another king, and went out to battle. Then the queen thought she now could do as she wished, and she let the king's daughter starve, and beat and pushed her about everywhere. At last everything else was too good for her, and she had to herd the cows. So she went out with the cows, and pastured them in the forest or on the hill. Food she had little or none, and she grew pale and thin, and was sad most of the time, and wept. In the herd there was also a great blue bull, who always kept himself neat and clean, and often came to the king's daughter and let her scratch him. Once, as she sat there and cried and was sad, he came to her again, and asked why she was so unhappy. She did not answer him but kept on weeping. \\\"Well, I know what your trouble is,\\\" said the bull, \\\"even though you will not tell me. You are weeping because the queen is so unkind to you, and would gladly starve you to death. But you need not worry about food, for in my left ear is a cloth and, if you will take it out and spread it, you can have as much as you want to eat.\\\" She did so, took out the cloth, laid it on the grass, and it was at once covered with the finest dishes one might desire: bread and mead and honey-cake. Then she soon regained her strength, and grew so plump, and so rose and white complexioned that the queen and her daughter, who was as thin as a rail, turned green and yellow with envy. The queen could not understand how it was that her step-daughter came to look so well in spite of such poor fare. So she told a maid to follow her to the forest, and watch and see how it came about; for she thought some of the servants secretly gave her food. The maid followed her into the forest, and watched carefully, and saw how the step-daughter drew the cloth out of the blue bull's left ear, and spread it out, and how it covered itself with the finest dishes, and also how the king's daughter ate heartily. And the maid told the queen at home about it. Now the king came home, and he had defeated the other king, against whom he had warred; and the whole castle was overjoyed, and none was more joyful than the king's daughter. But the queen pretended to be ill, and gave the physician a great deal of money so that he should say that she could not recover unless she had some of the blue bull's flesh to eat. The king's daughter and others as well asked the physician whether nothing else would do, and pleaded for the bull; for all liked him, and said that there was not such another in the whole kingdom. But no, he must be slaughtered, and he should be slaughtered, and there was no help for it. When the king's daughter heard this, she felt sad, and went into the stable to the bull. He stood and hung his head, and looked so mournful that she could not keep from weeping. \\\"Why do you weep?\\\" asked the bull. Then she told him that the king had come home, and that the queen had pretended to be ill, and had forced the physician to say that she could not recover unless she had some of the blue bull's flesh to eat, and that now he was to be slaughtered. \\\"Once she has done away with me, it will not be long before she does away with you,\\\" said the bull. \\\"But if it suits you, we will run away from here to-night.\\\" The king's daughter did say that it would be bad enough to leave her father, but that at the same time it would be worse to remain under the same roof with the queen, and so she promised the bull to go with him. In the evening, while the rest were asleep, the king's daughter crept down to the bull in the stable. He took her on his back, and ran off as quickly as ever he could. And when the people rose the following morning, and wanted to slaughter the bull, he was gone; and when the king rose and asked for his daughter, she was gone as well. The king sent out messengers on all sides, and had the church-bells rung for her, but no one had seen anything of her. In the meantime the bull trotted through many lands with the king's daughter, and they came to a great copper forest, whose trees, leaves and flowers were all of copper. But before they entered it, the bull said to the king's daughter: \\\"Now when we get into the forest you must be very careful not to touch so much as a single leaf, or else it is all up with you and with me; for a troll with three heads lives here, and the forest belongs to him.\\\" Yes, indeed, she would be careful, and not touch anything. And she was very careful, and leaned to one side, and thrust aside the branches; but the forest was so thick that it was almost impossible to win through, and for all that she was so careful, she did tear off a leaf, and it remained in her hand. \\\"Alas, alas!\\\" cried the bull. \\\"What have you done! Now I must fight for my very life. But see that you keep the leaf carefully!\\\" Straightway they reached the end of the forest, and at once a troll with three heads came rushing up. \\\"Who has touched my forest?\\\" cried he. \\\"The forest is as much mine as yours!\\\" was the bull's reply. \\\"We'll see if it is!\\\" shouted the troll. \\\"That suits me!\\\" cried the bull. Then they rushed at each other, and the bull gored and butted with might and main. But the troll was just as strong, and it took all day before the bull gained the upper hand. And then he had so many wounds, and was so weak that he could scarcely walk. So they had to halt for a whole day; but the bull told the queen's daughter to take the horn of ointment that hung at the troll's girdle, and anoint him with the salve. Thereupon he grew strong and well again, and they went on the next day. Now they wandered for many, many days, and at last came to a silver forest, whose trees, branches, leaves, buds and all were of silver. Before the bull entered the forest he said to the king's daughter: \\\"Now when we get into this forest, in heaven's name be careful! You must touch nothing, and not even tear off so much as a single leaf, or else it is all up with you and me. A troll with six heads lives here, and the forest belongs to him, and I will hardly be able to hold my own against him!\\\" \\\"Yes,\\\" said the king's daughter, \\\"indeed I will be careful, and not touch the least thing, just as you have told me.\\\" But when they entered the forest, it was so thick that it was almost impossible to win through. She was as careful as she could be, and avoided the branches, and thrust them aside with her hands; but the branches struck her in the face each moment, and in spite of all her care a leaf did remain in her hand.\\n\\n\\\"Alas, alas!\\\" cried the bull. \\\"What have you done! Now I must fight for my very life, for the troll with six heads is twice as strong as the first one; but see that you take care of the leaf and keep it carefully!\\\" At once the troll came rushing up. \\\"Who has touched my forest?\\\" cried he. \\\"The forest is as much mine as yours!\\\" cried the bull. \\\"Oho, we'll see if it is!\\\" cried the troll. \\\"That suits me!\\\" said the bull, and rushed on the troll, gored him, and thrust his horns right through him. But the troll was just as strong, and it took three whole days before the bull got the better of him. After that he was so weak and feeble that he could scarcely move, and so full of wounds that his blood ran in streams. Then he told the king's daughter to take the horn of ointment that hung at the troll's girdle, and anoint him with the salve. She did so, and he recovered again: yet they had to remain a time on the spot, until he was once more able to go on. At last they set out again; but the bull was still weak, and at first they went slowly. The king's daughter wanted to spare him, and said she was young and quick on her feet, and could walk very well; but this he would not allow, and she had to sit on his back. Thus they wandered for a long time, and through many lands, and the king's daughter had no idea where they might be going; but at length they came to a golden forest. It was very beautiful, and the gold dripped down from it, for the trees, and branches and leaves and buds were all of purest gold. And here all went as it had in the copper and silver forests. The bull told the king's daughter that in no case was she to touch anything, since a troll with nine heads lived here, to whom the forest belonged. And he was much larger and stronger than the two others together, and he did not believe he could hold his own against him. Yes, said she, she would be sure to pay attention and positively would not touch a thing. But when they entered the forest, it was even thicker than the silver forest, and the further they went the worse it became. The forest grew thicker and denser, and at last it seemed as though it would be impossible to push on at all. She was much afraid of tearing off anything, and wound and twisted and bent herself in every direction, in order to avoid the branches, and thrust them aside with her hands. But each moment they struck her in the face, so that she could not see where she was reaching, and before she had a chance to think, she held a golden apple in her hand. Then she was terribly frightened, and began to cry, and wanted to throw it away. But the bull told her to keep it, and hide it carefully, and consoled her as best he could. Yet he thought that the battle would be a hard one, and was in doubt as to whether it would end well. But now the troll with the nine heads came rushing up, and he was so frightful that the king's daughter could scarcely bear to look at him. \\\"Who has touched my forest?\\\" he shouted. \\\"The forest is as much mine as yours!\\\" cried the bull. \\\"We'll see if it is!\\\" cried the troll. \\\"That suits me!\\\" said the bull, and with this they rushed on each other, so that it was a fearsome sight, and the king's daughter nearly fainted. The bull gored the troll through and through with his horns; but the troll was as strong as he, and as soon as the bull killed one of his heads, the others breathed fresh life into it, and it took a full week before the bull got the better of him. But then he was so wretched and so weak that he could not move a bit. His whole body was covered with wounds; and he could not even tell the king's daughter to take the horn of ointment from the troll's girdle and anoint him with the salve. But she did so of her own accord, and then he recovered again. Yet they had to stay where they were for three whole weeks, until he was able to go on again. At last they once more went slowly on their way; for the bull said they still had a little further to go, and they went over many great hills and through thick forests. After a time they came to a rock. \\\"Do you see anything?\\\" asked the bull. \\\"No, I see only the sky and the rock,\\\" said the king's daughter. But when they went on up the hills were more level, so that they had a broader outlook. \\\"Do you see something now?\\\" asked the bull. \\\"Yes, I see a small castle, far, far in the distance,\\\" said the princess. \\\"And yet it is not so small,\\\" said the bull. At length they came to a great mountain with a steep, rocky face. \\\"Do you see something now?\\\" asked the bull. \\\"Yes, now I see the castle close by, and it is much, much larger,\\\" said the king's daughter. \\\"That is where you must go!\\\" said the bull. \\\"Just below the castle is a pig-sty, and if you go into it you will find a wooden coat. You must put it on, and go with it into the castle, and say your name is Kari Woodencoat, and ask for a place. But now take your little knife and cut off my head; then draw off my skin, roll it up and lay it at the foot of the rock. But in it you must place the copper leaf, and the silver leaf, and the golden apple. Outside, against the hill, is a stick, and if you want anything of me, all you need do is to knock at the mountain-side.\\\" At first the princess could not at all make up her mind to do this; but when the bull told her that this was the only reward he wanted for all the good he had done her, she could not refuse. It made her heart ache, yet in spite of it, she took her knife and cut until she had cut off the head of the great beast, and had drawn off his skin, and then she laid the latter at the foot of the rock, and in it she placed the copper leaf, and the silver leaf, and the golden apple. When she had done this she went to the pig-sty, but she wept a great deal and felt sad. Then she put on the wooden coat, and went to the king's castle in it. She asked for a place in the kitchen, and said her name was Kari Woodencoat. Yes, said the cook, she might have a place if she cared to wash up, for the girl who had formerly attended to it had run away. \\\"And after you have been here a while, no doubt you will have enough of it, and run away from us, too,\\\" said he. No, indeed, she would not do so. She was most industrious at her washing up. On Sunday they expected company at the king's castle; and Kari asked permission to take up water to wash in to the prince. But the others laughed at her and cried; \\\"What do you want to do there? Do you think the prince will have anything to do with you, homely as you are?\\\" But she kept on asking, and at length received permission. And then, as she ran up the stairs, her wooden coat clattered so loudly that the prince came out and asked: \\\"And who are you?\\\" \\\"I came to bring you water to wash in,\\\" said Kari. \\\"Do you think I want the water you are bringing me?\\\" cried the prince, and poured the water out over her head. So she had to go off; but she asked permission to go to church. And she received permission, for the church was close by. But first she went to the rock and knocked at it with a stick, as the bull had told her. And a man came out at once and asked what she wanted. The king's daughter said that she had permission to go to church and hear the sermon, but that she had no dress to wear. Then the man gave her a dress that shone like the copper forest, and a horse and a saddle as well. When she came to church she looked so beautiful that all the people wondered who she might be, and none of them listened to the sermon, because they were all looking at her. She even pleased the prince so much that he could not keep from looking at her. When she left the church, the prince came after her, and closed the church door behind her, and kept one of the gloves she wore in his hand. And then when she wanted to mount her horse, the prince came again, and asked her where she came from. \\\"From Washwaterland!\\\" said Kari, and while the prince pulled out the glove and wanted to give it to her, she said:\\n\\n\\\"Be there light before me, and darkness behind,\\nThat the place I ride to the prince may not find!\\\"\\nThe prince had never yet seen such a handsome glove, and he traveled far, looking for the native land of the noble lady who had abandoned her glove, but no one could tell him where it might be. The following Sunday some one had to go up to the prince, and bring him a towel. \\\"Cannot I go up?\\\" begged Kari. \\\"Is that all you want?\\\" said the rest in the kitchen. \\\"You saw yourself what happened to you the last time!\\\" But Kari kept on asking, and finally she received permission, after all, and ran up the stairs so that her wooden coat fairly clattered. The prince at once thrust his head out of the door, and when he saw that it was Kari, he tore the towel out of her hand and flung it at her head. \\\"Off with you, you horrid creature!\\\" cried he. \\\"Do you think I want a towel that you have touched with your dirty fingers?\\\" After that the prince went to church, and Kari also begged permission to go. The people asked her why she wanted to go to church, since she had nothing to wear but her ugly, black wooden coat. But Kari said the pastor preached so beautifully that she loved to listen to him, and finally they allowed her to go. She went to the wall of rock and knocked, and the man came out and gave her a dress that was far handsomer than the first; it was embroidered all over with silver, and gleamed like the silver forest; and she also received a splendid horse, with housings embroidered with silver, and a silver bridle. When the king's daughter came to the church, the people were still standing before the church door. In their astonishment they all asked each other who she might be, and the prince came running up at once, and wanted to hold her horse while she dismounted. But she jumped right down, and said it would not be necessary, since the horse was so tame that it would stand still when she commanded, and come to her if she wished. Then every one went into the church. But hardly any one paid any attention to the sermon; for they were all looking at Kari, and the prince fell deeper in love with her than he had the first time. When the sermon was over, and she left the church and was about to mount her horse, the prince again came, and asked where she came from. \\\"From Towelland!\\\" said she, and let fall her riding-whip. And when the prince stooped to pick it up, she said:\\n\\n\\\"Be there light before me, and darkness behind,\\nThat the place I ride to the prince may not find!\\\" Off she was, and the prince did not know what had become of her. He wandered about in the world, far and wide, looking for her native land. But no one could tell him where it might be, and with that the prince finally had to content himself.\\n\\nThe following Sunday some one was to go up to the prince, and bring him a comb. Kari begged that they would let her go, but the others reminded her of what had happened the last time, and scolded her for showing herself to the prince, ugly as she was, and in her wooden coat. But she kept on asking, and finally they let her go with the comb. When she once more came clattering up the stairs, the prince thrust his head out of the door, tore the comb from her hand, and shouted at her to be off. Then the prince went to church, and Kari wanted to go as well. The rest again asked her why she wanted to go to church, ugly as she was, since she did not even have clothes fit to appear in before other people. The prince, or some one else might happen to see her, and that would mean unhappiness for herself and others. But Kari said that the people would have other things to look at besides herself, and finally they let her go. Then everything happened exactly as on the other two occasions. She went to the wall of rock, and knocked with the stick, and then the man came out, and gave her a dress that was far more beautiful than both of the others. It was all pure gold and diamonds, and she also received a beautiful horse, with housings embroidered with gold, and a golden bridle.\\n\\nWhen the king's daughter came to the church, the pastor and all the congregation were still standing before the church door, waiting for her. The prince came running up at once, and wanted to hold her horse, but she jumped down and said: \\\"No, thanks, it is not necessary, for my horse is so tame that he will remain standing when I tell him to do so.\\\" So they all went into the church, and the pastor mounted the pulpit. But not a soul listened to the sermon, because all the people were looking at the princess, and wondering where she came from, and the prince fell still more deeply in love than he had on the two other occasions. He paid no attention to anything, and looked only at her. When the sermon was over, and the king's daughter left the church, the prince had poured tar on the floor of the vestibule, so that he might have a chance to help the king's daughter across. But she paid no attention to it, stepped right into the middle of the tar, and leaped over. But one of her golden shoes stuck fast, and when she had mounted her horse, the prince came running out of the church and asked her whence she came. \\\"From Combland!\\\" she answered. But when the prince wanted to hand her the golden shoe, she said:\\n\\n\\\"Be there light before me, and darkness behind,\\nThat the place I ride to the prince may not find!\\\" And again the prince did not know where she had gone, and he wandered about the world a long time, looking for Combland; but since no one could tell him where it might be, he let it be known that he would marry the girl whose foot the golden shoe fitted. Then the handsome and the homely came scurrying up from the ends of the earth; but none of them had a foot so small that they could put on the golden shoe. At last Kari's evil stepmother and her daughter also came, and the shoe fitted the latter. But she was very homely, and looked so unsatisfactory that the prince kept his promise most unwillingly. Notwithstanding, preparations were made for the wedding, and she was adorned with her bridal finery, but when they rode to church, a little bird sat in a tree and sang:\\n\\n\\\"A bit of the heel,\\nAnd a bit of the toe,\\nKari Woodencoat's shoe\\nIs filled with blood, I know!\\\" And when they looked, the bird had told the truth, for blood was dripping from the shoe. Then all the maids and all the women who were at the castle had to try on the shoe, but it would fit none of them. \\\"But where is Kari Woodencoat?\\\" asked the prince, for he had understood the song of the bird, and remembered it well. \\\"O she!\\\" said the others. \\\"It is not worth while having her come, for she has feet like a horse.\\\" \\\"Be that as it may,\\\" said the prince. \\\"But all the rest have tried it on, so she shall try it on as well. Kari!\\\" he called out through the door, and Kari came clattering up the stairs so that everything shook, just as though a whole regiment of dragoons had arrived. \\\"Now you shall try on the golden shoe, and be a princess!\\\" said the others, and made fun of her. But Kari took the shoe, put her foot into it without a bit of trouble, cast off her wooden coat, and stood there in her golden dress, so that she was all a-sparkle, and on her other foot she had the golden shoe's mate. The prince recognized her at once, put his arm around her, and kissed her. And she told him that she was a king's daughter, which made him still more happy, and then they celebrated their wedding.\\n\\n\\\"spin, span, spun,\\nNow our tale is done!\\\"\",\n          \"Once upon a time, long, long years ago, there lived a well-to-do old\\ncouple on a homestead up in Hadeland. They had a son, who was a dragoon,\\na big, handsome fellow. They had a pasture in the hills, and the hut was\\nnot like most of the herdsmen's huts; but was well and solidly built,\\nand even had a chimney, a roof and a window. And there they spent the\\nsummer. But when they came back home in the fall, the wood-cutters and\\nhuntsmen and fishermen. And whoever else had business in the woods at\\nthat time, noticed that the mountain folk had carried on its tricks with\\ntheir herd. And among the mountain folk was a maiden who was so\\nbeautiful that her like had never been seen. The son had often heard tell of her, and one fall, when his parents had\\nalready come home from the mountain pasture, he put on his full uniform,\\nsaddled his service horse, thrust his pistols in the holsters, and thus\\nrode up into the hills. When he rode toward the pasture, such a fire\\nburned in the herdsman's hut that it lit up every road, and then he knew\\nthat the mountain folk were inside. So he tied his horse to a pine-tree,\\ntook a pistol from its holster, crept up to the hut, and peeped through\\nthe window. And there sat an old man and a woman who were quite crooked and shriveled up with age, and so unspeakably ugly that he had never seen anything like it in his life; but with them was a maiden, and she was so surpassingly beautiful that he fell in love with her at once, and felt that he could not live without her. All had cow's tails, and th lovely maiden, too. And he could see that they had only just arrived, for everything was in disorder. The maiden was busy washing the ugly old man, and the woman was building a fire under the great cheese-kettle on the hearth. At that moment the dragoon flung open the door, and shot off his pistol\\nright above the maiden's head, so that she tottered and fell to the\\nground. And then she grew every bit as ugly as she had been beautiful\\nbefore, and she had a nose as long as a pistol-case.\\n\\n\\\"Now you may take her, for now she belongs to you!\\\" said the old man.\\nBut the dragoon stood as though rooted to the spot; stood where he\\nstood, and could not take a single step, either forward or backward.\\nThen the old man began to wash the girl; and she looked a little better. \\nHer nose was only half its original size, and her ugly cow's tail was\\ntied back; but she was not as handsome, and any one who said so would\\nnot have been telling the truth. \\\"Now she is yours, my proud dragoon! Take her up before you on your\\nhorse, and ride into town and marry her. And you need only set the\\ntable for us in the little room in the bake-house; for we do not want\\nto be with the other wedding-guests,\\\" said the old monster, her father,\\n\\\"but when the dishes make the round, you can stop in where we are.\\\"\\n\\nHe did not dare do anything else, and took her up before him on his\\nhorse, and made ready to marry her. But before she went to church, the\\nbride begged one of the bridesmaids to stand close behind her, so that\\nno one could see her tail fall off when the priest joined their hands.\\n\\nSo the wedding was celebrated, and when the dishes made the round, the\\nbridegroom went out into the room where the table had been set for the\\nold folk from the mountain. And at that time there was nothing to be\\nseen there; but after the wedding-guests had gone, there was so much\\ngold and silver, and such a pile of money lying there, as he had never\\nseen together before. For a long time all went well. Whenever guests came, his wife laid the\\ntable for the old folk in the bake-house, and on each occasion so much\\nmoney was left lying there, that before long they did not know what to\\ndo with it all. But ugly she was, and ugly she remained, and he was\\nheartily weary of her. So it was bound to happen that he sometimes flew\\ninto a rage, and threatened her with cuffs and blows. Once he wanted to\\ngo to town, and since it was fall, and the ground already frozen, the\\nhorse had first to be shod. So he went into the smithy--for he himself\\nwas a notable farrier--but, no matter what lie did, the horse-shoe was\\neither too large or too small, and would not fit at all. He had no other\\nhorse at home, and he toiled away until noon and on into the afternoon.\\n\\\"Will you never make an end of your shoeing?\\\" asked his wife. \\\"You are\\nnot a very good husband; but you are a far worse farrier. I see there is\\nnothing left for me but to go into the smithy myself and shoe the horse.\\nThis shoe is too large, you should have made it smaller, and that one is\\ntoo small, you should have made it larger.\\\" She went into the smithy, and the first thing she did was to take the\\nhorse-shoe in both hands and bend it straight.\\n\\n\\\"There, look at it,\\\" said she, \\\"that is how you must do it.\\\" And with\\nthat she bent it together again as though it were made of lead. \\\"Now\\nhold up the horse's leg,\\\" said she, and the horse-shoe fitted to a hair,\\nso that the best farrier could not have bettered it.\\n\\n\\\"You have a great deal of strength in your fingers,\\\" said her husband,\\nand he looked at her.\\n\\n\\\"Do you think so?\\\" was her reply. \\\"What would have happened to me had\\nyou been as strong? But I love you far too dearly ever to use my\\nstrength against you,\\\" said she.\\n\\nAnd from that day on he was the best of husbands.\"\n        ],\n        \"semantic_type\": \"\",\n        \"description\": \"\"\n      }\n    },\n    {\n      \"column\": \"content_length\",\n      \"properties\": {\n        \"dtype\": \"number\",\n        \"std\": 1707,\n        \"min\": 983,\n        \"max\": 5333,\n        \"num_unique_values\": 5,\n        \"samples\": [\n          2782,\n          5333,\n          1358\n        ],\n        \"semantic_type\": \"\",\n        \"description\": \"\"\n      }\n    }\n  ]\n}"
            }
          },
          "metadata": {},
          "execution_count": 4
        }
      ]
    },
    {
      "cell_type": "code",
      "source": [
        "titles_set = set(df['title'])\n",
        "\n",
        "print(f'Unique feirytales titles: {titles_set}')\n",
        "print(f'The number of unique fairytale titles: {len(titles_set)}')"
      ],
      "metadata": {
        "colab": {
          "base_uri": "https://localhost:8080/"
        },
        "id": "SmO-vm_r8L9o",
        "outputId": "27467ead-0ebb-44b5-e65b-8fdf264b12c7"
      },
      "execution_count": 5,
      "outputs": [
        {
          "output_type": "stream",
          "name": "stdout",
          "text": [
            "Unique feirytales titles: {'help-in-need', 'daniel-o-rourke', 'child-of-mary', 'the-history-of-jack-the-giant-killer', 'the-golden-blackbird', 'the-bunyip', 'stompe-pilt', 'king-kojata', 'the-king-of-the-polar-bears', 'knos', 'prudent-hans', 'story-of-old-man-who-made-withered-trees-to-flower', 'per-gynt', 'torre-jeppe', 'water-lily-gold-spinners', 'the-flying-ogre', 'puppet-show-man', 'leelinau-the-lost-daughter', 'the-roly-poly-pudding', 'the-coming-of-finn', 'the-tale-of-mr-jeremy-fisher', 'what-one-can-invent', 'chronicle-of-pancake', 'the-fairy-nurse', 'osseo-the-son-of-the-evening-star', 'the-war-of-the-wolf-and-the-fox', 'the-mother', 'the-miserly-farmer', 'the-selfish-giant', 'jack-my-hedgehog', 'the-sunchild', 'races', 'the-snow-man', 'self-did-it', 'the-magic-mirror', 'which-was-the-foolishest', 'the-little-spirit-or-boy-man', 'first-born-first-wed', 'anent-giant-who-did-not-have-his-heart-about-him', 'magic-apples', 'sheem-the-forsaken-boy', 'peerifool', 'my-lord-bag-of-rice', 'two-maidens', 'remarkable-rocket', 'the-battle-of-the-birds', 'charcol-nils-troll-woman', 'golden-goose', 'jelly-fish-and-monkey', 'the-teapot', 'the-red-swan', 'whippety-stourie', 'how-the-five-ancients-became-men', 'thomas-the-rhymer', 'story-of-prince-yamato-take', 'the-fire-plume', 'story-of-man-who-did-not-wish-to-die', 'troll-wife', 'jamie-freel-and-the-young-lady', 'starkad-bale', 'robber-bridegroom', 'the-tale-of-bad-mice', 'lucky-andrew', 'finn-the-giant-and-the-minister-of-lund', 'a-french-puck', 'ogre-of-rashomon', 'twelve-brothers', 'hat-of-huldres', 'aspenclog', 'werewolf', 'the-tale-of-benjamin-bunny', 'the-elfin-knight', 'assipattle-and-the-mester-stoorworm', 'the-steadfast-tin-soldier', 'the-of-miss-moppet', 'story-of-princess-hase', 'the-fir-tree', 'the-tale-of-jemina-puddle-duck', 'weendigoes-and-the-bone-dwarf', 'the-boy-who-set-a-snare-for-the-sun', 'the-fox-and-the-wolf', 'hans-in-luck', 'the-wee-bannock', 'three-princesses-in-whiteland', 'the-corpse-watchers', 'neighbor-underground', 'alleleiraugh-or-the-many-furred-creature', 'tale-of-johnny-town-mouse', 'money-box', 'three-treasures-of-giants', 'kari-woodencoat', 'habetrot-the-spinstress', 'the-enchanted-deer', 'sagacious-monkey-and-boar', 'the-raspberry-worm', 'the-rich-brother-and-the-poor-brother', 'silverwhite-lillwacker', 'jorinde-and-joringel', 'the-white-cat', 'happy-hunter-skillful-fisher', 'the-king-of-the-ants', 'the-straw-the-coal-and-the-bean', 'the-four-gifts', 'bokwewa-the-humpback', 'the-crane-that-crossed-the-river', 'lord-of-hill-and-john-blessom', 'farther-south-than-south-and-farther-north-than-north-and-in-great-hill-of-gold', 'what-the-goodman-does-is-always-right', 'bamboo-cutter-moon-child', 'shinansha-or-south-pointing-carriage', 'the-golden-crab', 'the-bird-with-nine-heads', 'the-toad-woman', 'white-hare-and-crocodiles', 'the-dwarfie-stone', 'old-sultan', 'old-street-lamp', 'the-seal-catcher-and-the-merman', 'enchanted-wreath', 'the-black-bull-of-norroway', 'the-three-crowns', 'moti', 'the-favorite-of-fortune-and-the-child-of-ill-luck', 'the-queen-of-heaven', 'the-lady-of-the-moon', 'the-winter-spirit-and-his-visitor', 'black-arts', 'little-miss-muffet', 'cinderella-or-the-little-glass-slipper', 'the-tale-of-the-flopsy-bunnies', 'snail-rose-tree', 'the-uraschimataro-and-the-turtle', 'the-well-o-the-worlds-end', 'youth-who-wanted-to-win-daughter-of-mother-in-corner', 'east-of-sun-and-west-of-moon', 'troll-wedding', 'wunzh-the-father-of-indian-corn', 'cat-who-could-eat-so-much', 'skalunda-giant', 'master-girl', 'fairy-gifts', 'farquhar-macneill', 'fox-and-wolf', 'the-one-handed-girl', 'morraha', 'how-boots-befooled-king', 'the-tale-of-mrs.-tiggy-winkle', 'old-hop-giant', 'little-boy-blue', 'festivities-at-the-house-of-conan', 'the-escape-of-the-mouse', 'the-toad', 'youth-who-was-to-serve-three-years-without-pay', 'comrade', 'flax', 'laotsze', 'the-man-with-his-leg-tied-up', 'the-abbot-of-inisfalen', 'king-o-toole-and-st-kevin', 'giauna-the-beautiful', 'white-feather-and-the-six-giants', 'quarrel-of-monkey-and-crab', 'princess-glass-mountain', 'the-sea-king-gift', 'spectre-fjelkinge', 'Snow-man', 'murmur-goose-egg', 'lawn-dyarrig', 'the-tale-of-peter-rabbit', 'how-an-old-man-lost-his-wen', 'mr-korbes', 'the-top-and-ball', 'ola-storbaekkjen', 'he-of-the-little-shell', 'the-false-prince-and-the-true', 'the-page-boy-and-the-silver-goblet', 'cuchulain-of-muirthemne', 'the-death-of-the-hen', 'the-dragon-princess', 'yuletide-specters', 'red-shoes', 'the-bird-lover', 'the-witch-of-fife', 'the-tale-of-timmy-tiptoes', 'pinkel-thief', 'the-wolf-and-the-seven-little-goats', 'notscha', 'little-lasse', 'mount-of-golden-queen', 'prince-featherhead-and-the-princess-celandine', 'lasse-my-thrall', 'dschang-liang', 'why-dog-and-cat-are-enemies', 'adventures-of-kintaro-golden-boy', 'soria-moria-castle', 'the-brown-bear-of-norway', 'nippit-fit-and-clippit-fit', 'the-two-scholars', 'the-iron-stove', 'the-origin-of-the-robin', 'happy-prince', 'rooster-handmill-swarm-of-hornets', 'helge-hal-in-blue-hill', 'murtough-and-the-witch-woman', 'the-flower-queens-daughter', 'storks', 'a-legend-of-knockmany', 'tale-of-ginger-and-pickles', 'how-molo-stole-the-lovely-rose-red', 'farmer-and-badger', 'four-shilling-piece', 'princess-bella-flor', 'mirror-of-matsuyama', 'naughty-boy', 'the-bones-of-djulung', 'swan-maiden', 'a-legend-of-confucius', 'how-the-river-gods-wedding-was-broken-off', 'brave-tin-soldier', 'the-believing-husbands', 'old-dschang', 'the-pie-and-the-patty-pan', 'the-bracket-bull', 'momotaro-of-son-of-peach', 'the-ugly-duckling', 'ali-baba-and-forty-thieves', 'rose-of-evening', 'gray-eagle-and-his-five-brothers', 'the-enchanted-moccasins', 'evil-one-kitta-grau', 'secret-church', 'a-fish', 'storm-magic', 'the-fairies-of-merlin-crag', 'mother-hulda', 'kings-hares', 'how-princess-pride-was-broken', 'a-lost-paradise', 'the-mouse-the-bird-and-the-sausage', 'goblin-huckster', 'brother-sister', 'the-fire-god', 'black-sheep', 'skipper-and-sir-urian', 'how-brave-walter-hunted-wolves', 'tongue-cut-sparrow', 'fox-fire', 'gold-tree-and-silver-tree', 'three-dogs', 'girl-and-snake', 'the-constable', 'the-adventures-of-gilla-na-chreck-an-gour', 'the-flying-trunk', 'strong-desire-and-the-red-sorcerer', 'the-boyhood-of-cuchulain', 'the-disowned-princess', 'faithful-and-unfaithful', 'the-magic-bundle', 'buckwheat', 'lame-dog', 'sleeping-beauty-in-the-wood', 'the-celestial-sisters', 'three-lemons', 'canonbie-dick-and-thomas-of-ercildoune', 'queen-crane', 'thumbelina', 'snowflake', 'the-two-jeebi', 'the-brownie-of-the-lake', 'prince-hyacinth-and-thedear-little-princess', 'tale-of-mrs.tittlemouse', 'tale-of-tom-kitten', 'the-little-hunting-dog', 'the-winning-of-olwen', 'isle-of-udrost', 'the-dangerous-reward', 'grandmother', 'the-magic-bon-bons'}\n",
            "The number of unique fairytale titles: 278\n"
          ]
        }
      ]
    },
    {
      "cell_type": "code",
      "source": [
        "fairytale_texts = df['content']\n",
        "\n",
        "print(fairytale_texts[:10])"
      ],
      "metadata": {
        "colab": {
          "base_uri": "https://localhost:8080/"
        },
        "id": "sJSVRMHi85Qq",
        "outputId": "c3db916e-55ce-40ed-e1f0-8b342a44124d"
      },
      "execution_count": 6,
      "outputs": [
        {
          "output_type": "stream",
          "name": "stdout",
          "text": [
            "0    There was once upon a time a king called Kojat...\n",
            "1    It generally happens that people's surrounding...\n",
            "2    There was once a farmer who lived in great com...\n",
            "3    There was once upon a time a King who had a wi...\n",
            "4    There was once upon a time a castle in the mid...\n",
            "5    Once upon a time there lived a King and Queen,...\n",
            "6    In the reign of the famous King Arthur there l...\n",
            "7    There was once upon a time a man and his wife ...\n",
            "8    Once upon a time there was a great lord who ha...\n",
            "9    In a little village that stood on a wide plain...\n",
            "Name: content, dtype: object\n"
          ]
        }
      ]
    },
    {
      "cell_type": "markdown",
      "source": [
        "### Analysing one fairytale"
      ],
      "metadata": {
        "id": "YMtYgemq-IX0"
      }
    },
    {
      "cell_type": "code",
      "source": [
        "fairytale1 = fairytale_texts[0]"
      ],
      "metadata": {
        "id": "RzUz_Gvw_Xuk"
      },
      "execution_count": 7,
      "outputs": []
    },
    {
      "cell_type": "code",
      "source": [
        "import spacy\n",
        "\n",
        "nlp = spacy.load(\"en_core_web_sm\")\n",
        "\n",
        "def tokenise_english_text(text):\n",
        "  tokenised_text = []\n",
        "  processed_text = nlp(text)\n",
        "  for token in processed_text:\n",
        "    tokenised_text.append(token.text)\n",
        "  return tokenised_text"
      ],
      "metadata": {
        "id": "5gAERgQ39DiT"
      },
      "execution_count": 10,
      "outputs": []
    },
    {
      "cell_type": "code",
      "source": [
        "tokenised_fairytale1 = tokenise_english_text(fairytale1)\n",
        "\n",
        "print(tokenised_fairytale1[:100])\n",
        "print(f'The length of the tokenised text: {len(tokenised_fairytale1)}')"
      ],
      "metadata": {
        "colab": {
          "base_uri": "https://localhost:8080/"
        },
        "id": "sIz0msf9CBT0",
        "outputId": "c379c6fa-adc9-44c9-ed7d-a5a49eb936b8"
      },
      "execution_count": 12,
      "outputs": [
        {
          "output_type": "stream",
          "name": "stdout",
          "text": [
            "['There', 'was', 'once', 'upon', 'a', 'time', 'a', 'king', 'called', 'Kojata', ',', 'whose', 'beard', 'was', 'so', '\\n', 'long', 'that', 'it', 'reached', 'below', 'his', 'knees', '.', 'Three', 'years', 'had', 'passed', 'since', 'his', '\\n', 'marriage', ',', 'and', 'he', 'lived', 'very', 'happily', 'with', 'his', 'wife', ',', 'but', 'Heaven', 'granted', '\\n', 'him', 'no', 'heir', ',', 'which', 'grieved', 'the', 'King', 'greatly', '.', 'One', 'day', 'he', 'set', 'forth', '\\n', 'from', 'his', 'capital', ',', 'in', 'order', 'to', 'make', 'a', 'journey', 'through', 'his', 'kingdom', '.', '\\n', 'He', 'travelled', 'for', 'nearly', 'a', 'year', 'through', 'the', 'different', 'parts', 'of', 'his', '\\n', 'territory', ',', 'and', 'then', ',', 'having', 'seen', 'all', 'there', 'was']\n",
            "The length of the tokenised text: 5534\n"
          ]
        }
      ]
    },
    {
      "cell_type": "code",
      "source": [
        "vocab1 = set(tokenised_fairytale1)\n",
        "\n",
        "print(f'The last ten unique tokens in thee vocabulary: {list(sorted(vocab1)[-10:])}')\n",
        "print(f'The length of the vocabulary: {len(vocab1)}')"
      ],
      "metadata": {
        "colab": {
          "base_uri": "https://localhost:8080/"
        },
        "id": "xxRzovvp_Qnl",
        "outputId": "8063d715-5013-4a70-d38b-e60cae0cd2e9"
      },
      "execution_count": 13,
      "outputs": [
        {
          "output_type": "stream",
          "name": "stdout",
          "text": [
            "The last ten unique tokens in thee vocabulary: ['wretches', 'wring', 'year', 'years', 'you', 'young', 'youngest', 'your', 'yourself', 'youth']\n",
            "The length of the vocabulary: 1091\n"
          ]
        }
      ]
    },
    {
      "cell_type": "code",
      "source": [
        "from nltk.probability import FreqDist\n",
        "\n",
        "def get_frequency(words: list[str], text):\n",
        "  freq_dist = FreqDist(text)\n",
        "  for word in words:\n",
        "    freq = freq_dist[word]\n",
        "    print(f\"{word} = {freq}\")\n",
        "\n",
        "get_frequency([\"once\", \"king\", 'journey', \"witch\"], tokenised_fairytale1)"
      ],
      "metadata": {
        "colab": {
          "base_uri": "https://localhost:8080/"
        },
        "id": "it8J-b4YAbb9",
        "outputId": "9f0754a9-ff3d-4385-c09d-e61547f3f644"
      },
      "execution_count": 14,
      "outputs": [
        {
          "output_type": "stream",
          "name": "stdout",
          "text": [
            "once = 11\n",
            "king = 1\n",
            "journey = 4\n",
            "witch = 3\n"
          ]
        }
      ]
    },
    {
      "cell_type": "code",
      "source": [
        "import nltk\n",
        "import string\n",
        "from nltk.corpus import stopwords\n",
        "\n",
        "nltk.download('stopwords')\n",
        "stop_words = set(stopwords.words('english'))\n",
        "punctuation = set(string.punctuation)\n",
        "\n",
        "def clean_text(tokenised_text):\n",
        "  clean_text = []\n",
        "  for token in tokenised_text:\n",
        "    if token in punctuation or token in stop_words or token == '\\n' or  token == '\\n\\n':\n",
        "      continue\n",
        "    else:\n",
        "      clean_text.append(token)\n",
        "  return clean_text"
      ],
      "metadata": {
        "id": "2sbmUf5HCblw",
        "colab": {
          "base_uri": "https://localhost:8080/"
        },
        "outputId": "269c60a3-c9d2-4236-9f8f-eea42c362350"
      },
      "execution_count": 15,
      "outputs": [
        {
          "output_type": "stream",
          "name": "stderr",
          "text": [
            "[nltk_data] Downloading package stopwords to /root/nltk_data...\n",
            "[nltk_data]   Unzipping corpora/stopwords.zip.\n"
          ]
        }
      ]
    },
    {
      "cell_type": "code",
      "source": [
        "clean_fairytale1 = clean_text(tokenised_fairytale1)\n",
        "\n",
        "print(clean_fairytale1[:100])"
      ],
      "metadata": {
        "colab": {
          "base_uri": "https://localhost:8080/"
        },
        "id": "LVLmz_o8GlA4",
        "outputId": "de10c7a4-d048-4bec-988c-2af75ecea9a3"
      },
      "execution_count": 16,
      "outputs": [
        {
          "output_type": "stream",
          "name": "stdout",
          "text": [
            "['There', 'upon', 'time', 'king', 'called', 'Kojata', 'whose', 'beard', 'long', 'reached', 'knees', 'Three', 'years', 'passed', 'since', 'marriage', 'lived', 'happily', 'wife', 'Heaven', 'granted', 'heir', 'grieved', 'King', 'greatly', 'One', 'day', 'set', 'forth', 'capital', 'order', 'make', 'journey', 'kingdom', 'He', 'travelled', 'nearly', 'year', 'different', 'parts', 'territory', 'seen', 'seen', 'set', 'forth', 'homeward', 'way', 'As', 'day', 'hot', 'sultry', 'commanded', 'servants', 'pitch', 'tents', 'open', 'field', 'await', 'cool', 'evening', 'Suddenly', 'frightful', 'thirst', 'seized', 'King', 'saw', 'water', 'near', 'mounted', 'horse', 'rode', 'neighbourhood', 'looking', 'spring', 'Before', 'long', 'came', 'well', 'filled', 'brim', 'water', 'clear', 'crystal', 'bosom', 'golden', 'jug', 'floating', 'King', 'Kojata', 'tried', 'seize', 'vessel', 'though', 'endeavoured', 'grasp', 'right', 'hand', 'left', 'wretched', 'thing']\n"
          ]
        }
      ]
    },
    {
      "cell_type": "code",
      "source": [
        "from nltk.probability import FreqDist\n",
        "\n",
        "def get_most_frequent_filtered(n: int, text):\n",
        "  freq_dist = FreqDist(text)\n",
        "  most_common_freq_dist = freq_dist.most_common()\n",
        "\n",
        "  punctuation_list = list(string.punctuation)\n",
        "  stopwords_list = stopwords.words('english')\n",
        "\n",
        "  filtered_freq_dist = []\n",
        "  for word in most_common_freq_dist:\n",
        "    if word[0].lower() not in stopwords_list and word[0] not in punctuation_list and word[0] != '\\n' and word[0] != '\\n\\n' and word[0] != \"\\r\":\n",
        "      filtered_freq_dist.append(word)\n",
        "    continue\n",
        "  return filtered_freq_dist[:n]"
      ],
      "metadata": {
        "id": "jX935JlEGJsx"
      },
      "execution_count": 53,
      "outputs": []
    },
    {
      "cell_type": "code",
      "source": [
        "get_most_frequent_filtered(10, tokenised_fairytale1)"
      ],
      "metadata": {
        "colab": {
          "base_uri": "https://localhost:8080/"
        },
        "id": "JPp4Pb3AGTOf",
        "outputId": "d633e97b-ae22-40c4-a468-6c2f80538205"
      },
      "execution_count": 54,
      "outputs": [
        {
          "output_type": "execute_result",
          "data": {
            "text/plain": [
              "[('Prince', 60),\n",
              " ('Milan', 40),\n",
              " ('Hyacinthia', 30),\n",
              " ('King', 24),\n",
              " ('little', 22),\n",
              " (\"n't\", 20),\n",
              " ('beautiful', 20),\n",
              " ('said', 19),\n",
              " ('time', 18),\n",
              " (\"'s\", 18)]"
            ]
          },
          "metadata": {},
          "execution_count": 54
        }
      ]
    },
    {
      "cell_type": "markdown",
      "source": [
        "### Analysing all fairytales"
      ],
      "metadata": {
        "id": "RmoTEVmZIfzn"
      }
    },
    {
      "cell_type": "code",
      "source": [
        "clean_fairytale_texts = []\n",
        "\n",
        "for fairytale_text in fairytale_texts:\n",
        "  tokenised_fairytale = tokenise_english_text(fairytale_text)\n",
        "  clean_fairytale_text = clean_text(tokenised_fairytale)\n",
        "  clean_fairytale_texts.append(clean_fairytale_text)"
      ],
      "metadata": {
        "id": "2Fjzysp-IgHX"
      },
      "execution_count": null,
      "outputs": []
    },
    {
      "cell_type": "code",
      "source": [
        "print((clean_fairytale_texts)[:2])\n",
        "print(len(clean_fairytale_texts))"
      ],
      "metadata": {
        "id": "Q19bzbb9LLk1"
      },
      "execution_count": null,
      "outputs": []
    },
    {
      "cell_type": "code",
      "source": [
        "# 5 Most grequent words per fairytale\n",
        "most_freq_word_dict = {}\n",
        "i = 0\n",
        "\n",
        "for clean_fairytale_text in clean_fairytale_texts:\n",
        "  most_freq_word_dict[i] = get_most_frequent_filtered(5, clean_fairytale_text)\n",
        "  i = i + 1"
      ],
      "metadata": {
        "id": "hTUhBjirJfYn"
      },
      "execution_count": null,
      "outputs": []
    },
    {
      "cell_type": "code",
      "source": [
        "print(most_freq_word_dict)"
      ],
      "metadata": {
        "id": "V2TFP4_4K4wF"
      },
      "execution_count": null,
      "outputs": []
    },
    {
      "cell_type": "code",
      "source": [
        "# 10 Most frequent words across all fairtales\n",
        "\n",
        "merged_fairytales = [token for sublist in clean_fairytale_texts for token in sublist]\n",
        "\n",
        "print(merged_fairytales)\n",
        "print(type(merged_fairytales))"
      ],
      "metadata": {
        "id": "L9ELBePpiwau"
      },
      "execution_count": null,
      "outputs": []
    },
    {
      "cell_type": "code",
      "source": [
        "ten_most_freq_words = get_most_frequent_filtered(10, merged_fairytales)\n",
        "\n",
        "print(ten_most_freq_words)"
      ],
      "metadata": {
        "id": "VBTmjZNti5Lt"
      },
      "execution_count": null,
      "outputs": []
    },
    {
      "cell_type": "markdown",
      "source": [
        "### Visualisation"
      ],
      "metadata": {
        "id": "GIB4kt7J85ir"
      }
    },
    {
      "cell_type": "code",
      "source": [
        "import matplotlib.pyplot as plt\n",
        "import numpy as np\n",
        "\n",
        "plt.style.use('_mpl-gallery-nogrid')\n",
        "\n",
        "\n",
        "# make data\n",
        "x = ten_most_freq_words\n",
        "colors = plt.get_cmap('Blues')(np.linspace(0.2, 0.7, len(x)))\n",
        "\n",
        "# plot\n",
        "fig, ax = plt.subplots()\n",
        "ax.pie(x, colors=colors, radius=3, center=(4, 4),\n",
        "       wedgeprops={\"linewidth\": 1, \"edgecolor\": \"white\"}, frame=True)\n",
        "\n",
        "ax.set(xlim=(0, 8), xticks=np.arange(1, 8),\n",
        "       ylim=(0, 8), yticks=np.arange(1, 8))\n",
        "\n",
        "plt.show()"
      ],
      "metadata": {
        "id": "Ii6iorPukQyj"
      },
      "execution_count": null,
      "outputs": []
    },
    {
      "cell_type": "markdown",
      "metadata": {
        "id": "nmEXLHq8UoOW"
      },
      "source": [
        "## Linear Search\n",
        "\n",
        "Let's start with a simple linear search.\n",
        "Given a query string, the function `linear_search` should return a list of documents (or document ids) that contain it.\n",
        "\n",
        "Implement the function `linear_search` below, and measure its execution time for some example queries. Store these results and measure the mean the standard deviation of these times."
      ]
    },
    {
      "cell_type": "code",
      "execution_count": null,
      "metadata": {
        "id": "5BRU0g-BUoOW"
      },
      "outputs": [],
      "source": [
        "# Here are some ideas for queries. You can also come up with your own, or mix and match terms from different queries.\n",
        "queries = [\n",
        "    \"warrior\",\n",
        "    \"hunter\",\n",
        "    \"lodge\",\n",
        "    \"father\",\n",
        "    \"king\",\n",
        "    \"forest\",\n",
        "    \"magic\",\n",
        "    \"sword\",\n",
        "    \"queen\",\n",
        "    \"princess\",\n",
        "    \"castle\",\n",
        "    \"home\",\n",
        "    \"dream\",\n",
        "    \"fish\",\n",
        "    \"sleep\",\n",
        "    \"life\",\n",
        "    \"ship\",\n",
        "    \"luck\",\n",
        "    \"wisdom\",\n",
        "    \"hand\",\n",
        "    \"pig\",\n",
        "    \"child\",\n",
        "    \"friend\",\n",
        "    \"love\",\n",
        "    \"woman\",\n",
        "    \"pancake\",\n",
        "    \"money\",\n",
        "    \"bank\",\n",
        "    \"arrow\",\n",
        "    \"slave\",\n",
        "    \"music\",\n",
        "    \"work\",\n",
        "    \"respect\"  # from here I added some new keywords\n",
        "    \"witch\",\n",
        "    \"kingsom\",\n",
        "    \"knight\",\n",
        "    \"dragon\",\n",
        "    \"evil\",\n",
        "    \"good\",\n",
        "    \"esolution\",\n",
        "    \"protagonist\",\n",
        "    \"goblin\",\n",
        "    \"tiara\",\n",
        "    \"curse\",\n",
        "    \"carriage\",\n",
        "    \"wicked\",\n",
        "    \"character\"\n",
        "    \"ogre\",\n",
        "    \"adventure\",\n",
        "    \"hero\",\n",
        "    \"weak\",\n",
        "    \"tower\",\n",
        "    \"enemy\",\n",
        "    \"fairy\",\n",
        "    \"antagonist\",\n",
        "    \"step-mother\",\n",
        "    \"enchantment\",\n",
        "    \"myth\",\n",
        "    \"crown\",\n",
        "    \"fairy godmother\",\n",
        "    \"maiden\",\n",
        "    \"story\",\n",
        "    \"villain\",\n",
        "    \"horse\",\n",
        "    \"dwarf\",\n",
        "    \"beautiful\",\n",
        "    \"frog\",\n",
        "    \"elf\",\n",
        "    \"beast\",\n",
        "    \"giant\",\n",
        "    \"once upon a time...\",\n",
        "    \"happily ever after...\",\n",
        "    \"folktale\",\n",
        "    \"gown\"\n",
        "]"
      ]
    },
    {
      "cell_type": "code",
      "source": [],
      "metadata": {
        "id": "BeKvYPW_63dZ"
      },
      "execution_count": null,
      "outputs": []
    },
    {
      "cell_type": "code",
      "execution_count": null,
      "metadata": {
        "id": "CkaC8Kc9UoOW"
      },
      "outputs": [],
      "source": [
        "### YOUR CODE HERE ###\n",
        "def linear_search(documents, query: str):\n",
        "    pass"
      ]
    },
    {
      "cell_type": "markdown",
      "metadata": {
        "id": "8lXFeZxcUoOW"
      },
      "source": [
        "Q: How long did it take your ur linear search to find the documents for each query?\n",
        "Q: What was the mean and standard deviation of these times?\n"
      ]
    },
    {
      "cell_type": "markdown",
      "metadata": {
        "id": "-1uO8ZGAUoOW"
      },
      "source": [
        "### Measuring execution times:\n",
        "\n",
        "To measure the execution time of a function, you can use the `time` module in Python. Here's an example of how to use it:\n",
        "```python\n",
        "import time\n",
        "start_time = time.time()\n",
        "\n",
        "# Your code here\n",
        "\n",
        "end_time = time.time()\n",
        "execution_time = end_time - start_time\n",
        "print(f\"Execution time: {execution_time} seconds\")\n",
        "```\n",
        "\n",
        "---\n",
        "\n",
        "But you can make it even smarter, with reusable code, by [using a decorator](https://www.geeksforgeeks.org/timing-functions-with-decorators-python/):\n",
        "```python\n",
        "from time import time\n",
        "\n",
        "def timer_func(func):\n",
        "    \"\"\"This function shows the execution time of the function object passed\"\"\"\n",
        "    def wrap_func(*args, **kwargs):\n",
        "        t1 = time()\n",
        "        result = func(*args, **kwargs)\n",
        "        t2 = time()\n",
        "        print(f'Function {func.__name__!r} executed in {(t2-t1):.4f}s')\n",
        "        return result\n",
        "    return wrap_func\n",
        "\n",
        "@timer_func\n",
        "def long_time(n):\n",
        "    for i in range(n):\n",
        "        for j in range(100000):\n",
        "            i*j\n",
        "\n",
        "long_time(5)\n",
        "# Output: Function 'long_time' executed in 0.0468s\n",
        "```"
      ]
    },
    {
      "cell_type": "markdown",
      "metadata": {
        "id": "vqCA4xjgUoOW"
      },
      "source": [
        "## Inverted Index\n",
        "\n",
        "Now let's implement an inverted index. This will allow us to retrieve documents much faster than linear search.\n",
        "Implement a simple inverted index. You can use the following class as a starting point, or create your own.\n",
        "\n",
        "We will start simple: Just store the document IDs in a list for each token. If you want to be more advanced, you can store the document IDs as tuples, or a more complex object that stores the document ID and the position of the token in the document.  \n",
        "**Remember**: you are the queens, kings and gods in this realm. You can do whatever you want.\n"
      ]
    },
    {
      "cell_type": "code",
      "execution_count": null,
      "metadata": {
        "id": "dLepY4xHUoOX"
      },
      "outputs": [],
      "source": [
        "### YOUR CODE HERE ###\n",
        "\n",
        "class InvertedIndex:\n",
        "    def __init__(self):\n",
        "        self.index = {}\n",
        "        self.documents = []\n",
        "\n",
        "    def add_document(self, doc_id, tokens):\n",
        "        self.documents.append(doc_id)\n",
        "        for token in tokens:\n",
        "            if token not in self.index:\n",
        "                self.index[token] = []\n",
        "            self.index[token].append(doc_id)\n",
        "\n",
        "    def get_postings(self, token):\n",
        "        return self.index.get(token, [])\n",
        "\n",
        "    def get_documents(self):\n",
        "        return self.documents"
      ]
    },
    {
      "cell_type": "code",
      "execution_count": null,
      "metadata": {
        "id": "-1JXBkRmUoOX"
      },
      "outputs": [],
      "source": [
        "### Run the retrieval using inverted index on the same queries as before"
      ]
    },
    {
      "cell_type": "markdown",
      "metadata": {
        "id": "Q19ryZmLUoOX"
      },
      "source": [
        "Experiment again with the previous queries on the invertedt index, and time the results.  \n",
        "How long did it take to retrieve the documents for these same queries? What was the mean and standard deviation of these execution times?"
      ]
    }
  ],
  "metadata": {
    "kernelspec": {
      "display_name": "playground-CIwa4qg6-py3.10",
      "language": "python",
      "name": "python3"
    },
    "language_info": {
      "codemirror_mode": {
        "name": "ipython",
        "version": 3
      },
      "file_extension": ".py",
      "mimetype": "text/x-python",
      "name": "python",
      "nbconvert_exporter": "python",
      "pygments_lexer": "ipython3",
      "version": "3.10.12"
    },
    "colab": {
      "provenance": [],
      "include_colab_link": true
    }
  },
  "nbformat": 4,
  "nbformat_minor": 0
}